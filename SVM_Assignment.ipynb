{
  "cells": [
    {
      "cell_type": "markdown",
      "id": "cc6f0437-7c70-4825-99bb-3aba42b2910f",
      "metadata": {
        "id": "cc6f0437-7c70-4825-99bb-3aba42b2910f"
      },
      "source": [
        "# Assignment_2"
      ]
    },
    {
      "cell_type": "markdown",
      "id": "a759d574-c188-42e1-9797-0bf24774216b",
      "metadata": {
        "id": "a759d574-c188-42e1-9797-0bf24774216b"
      },
      "source": [
        "# Part 1: SVM"
      ]
    },
    {
      "cell_type": "markdown",
      "id": "3696f777-f0ff-4a6d-bc52-17035772320b",
      "metadata": {
        "id": "3696f777-f0ff-4a6d-bc52-17035772320b"
      },
      "source": [
        "### Use the following function to plot the classification regions"
      ]
    },
    {
      "cell_type": "code",
      "execution_count": null,
      "id": "7354d761-8e77-46d3-a670-e703603959bc",
      "metadata": {
        "id": "7354d761-8e77-46d3-a670-e703603959bc"
      },
      "outputs": [],
      "source": [
        "import numpy as np\n",
        "from matplotlib.colors import ListedColormap\n",
        "import matplotlib.pyplot as plt\n",
        "\n",
        "def plot_class_regions_for_classifier(clf, X, y, X_test=None, y_test=None, title=None, target_names = None, plot_decision_regions = True):\n",
        "\n",
        "    numClasses = np.amax(y) + 1\n",
        "    color_list_light = ['#FFFFAA', '#EFEFEF', '#AAFFAA', '#AAAAFF']\n",
        "    color_list_bold = ['#EEEE00', '#000000', '#00CC00', '#0000CC']\n",
        "    cmap_light = ListedColormap(color_list_light[0:numClasses])\n",
        "    cmap_bold  = ListedColormap(color_list_bold[0:numClasses])\n",
        "\n",
        "    h = 0.03\n",
        "    k = 0.5\n",
        "    x_plot_adjust = 0.1\n",
        "    y_plot_adjust = 0.1\n",
        "    plot_symbol_size = 50\n",
        "\n",
        "    x_min = X[:, 0].min()\n",
        "    x_max = X[:, 0].max()\n",
        "    y_min = X[:, 1].min()\n",
        "    y_max = X[:, 1].max()\n",
        "    x2, y2 = np.meshgrid(np.arange(x_min-k, x_max+k, h), np.arange(y_min-k, y_max+k, h))\n",
        "    # np.c_ Translates slice objects to concatenation along the second axis\n",
        "    # e.g. np.c_[np.array([[1,2,3]]), 0, 0, np.array([[4,5,6]])]\n",
        "    # ravel() Returns a contiguous flattened array.\n",
        "    # x = np.array([[1, 2, 3], [4, 5, 6]])\n",
        "    # np.ravel(x) = [1 2 3 4 5 6]\n",
        "    P = clf.predict(np.c_[x2.ravel(), y2.ravel()])\n",
        "    P = P.reshape(x2.shape)\n",
        "    plt.figure()\n",
        "    if plot_decision_regions:\n",
        "        plt.contourf(x2, y2, P, cmap=cmap_light, alpha = 0.8)\n",
        "\n",
        "    plt.scatter(X[:, 0], X[:, 1], c=y, cmap=cmap_bold, s=plot_symbol_size, edgecolor = 'black')\n",
        "    plt.xlim(x_min - x_plot_adjust, x_max + x_plot_adjust)\n",
        "    plt.ylim(y_min - y_plot_adjust, y_max + y_plot_adjust)\n",
        "\n",
        "    if (X_test is not None):\n",
        "        plt.scatter(X_test[:, 0], X_test[:, 1], c=y_test, cmap=cmap_bold, s=plot_symbol_size, marker='^', edgecolor = 'black')\n",
        "        train_score = clf.score(X, y)\n",
        "        test_score  = clf.score(X_test, y_test)\n",
        "        title = title + \"\\nTrain score = {:.2f}, Test score = {:.2f}\".format(train_score, test_score)\n",
        "\n",
        "    if (target_names is not None):\n",
        "        legend_handles = []\n",
        "        for i in range(0, len(target_names)):\n",
        "            patch = mpatches.Patch(color=color_list_bold[i], label=target_names[i])\n",
        "            legend_handles.append(patch)\n",
        "        plt.legend(loc=0, handles=legend_handles)\n",
        "\n",
        "    if (title is not None):\n",
        "        plt.title(title)\n",
        "    plt.show()"
      ]
    },
    {
      "cell_type": "markdown",
      "id": "ea7b2cf5-69c1-4d0d-9f9a-7998de96e1b2",
      "metadata": {
        "id": "ea7b2cf5-69c1-4d0d-9f9a-7998de96e1b2"
      },
      "source": [
        "### Use the following dataset in questions 1, 2, and 3."
      ]
    },
    {
      "cell_type": "code",
      "execution_count": null,
      "id": "1a9ed8e5-e12b-4b68-9bed-12ead1d8b2d4",
      "metadata": {
        "id": "1a9ed8e5-e12b-4b68-9bed-12ead1d8b2d4"
      },
      "outputs": [],
      "source": [
        "from sklearn.datasets import make_classification\n",
        "\n",
        "X, y = make_classification(n_samples = 100, n_features=2,\n",
        "                                n_redundant=0, n_informative=2,\n",
        "                                n_clusters_per_class=1, flip_y = 0.1,\n",
        "                                class_sep = 0.5, random_state=0)"
      ]
    },
    {
      "cell_type": "markdown",
      "id": "f36c5779-8f33-4a02-ab93-8b8aef5d15c1",
      "metadata": {
        "id": "f36c5779-8f33-4a02-ab93-8b8aef5d15c1"
      },
      "source": [
        "#### Question 1\n",
        "Split the data into training and testing datasets (use random_state=0 and 25% of the data for testing)"
      ]
    },
    {
      "cell_type": "code",
      "execution_count": null,
      "id": "6aa9601a-b5e4-4c5b-b1f1-38c75355ed5d",
      "metadata": {
        "id": "6aa9601a-b5e4-4c5b-b1f1-38c75355ed5d"
      },
      "outputs": [],
      "source": [
        "from sklearn.model_selection import train_test_split\n",
        "X_train, X_test, y_train, y_test=train_test_split(X,y,random_state=0,test_size=0.25)"
      ]
    },
    {
      "cell_type": "markdown",
      "id": "ae09c889-80f0-4e61-88d1-af488a235552",
      "metadata": {
        "id": "ae09c889-80f0-4e61-88d1-af488a235552"
      },
      "source": [
        "#### Question 2\n",
        "1. Train an SVM classifier using linear kernel.\n",
        "2. Plot the classification regions using the training dataset."
      ]
    },
    {
      "cell_type": "code",
      "execution_count": null,
      "id": "c15b4571-a989-4d6a-a37e-35b9994a1862",
      "metadata": {
        "colab": {
          "base_uri": "https://localhost:8080/",
          "height": 265
        },
        "id": "c15b4571-a989-4d6a-a37e-35b9994a1862",
        "outputId": "c8f84b1b-e860-48de-bbed-17ccf8c135ab"
      },
      "outputs": [
        {
          "output_type": "display_data",
          "data": {
            "text/plain": [
              "<Figure size 432x288 with 1 Axes>"
            ],
            "image/png": "[encoded data removed]"
          },
          "metadata": {
            "needs_background": "light"
          }
        }
      ],
      "source": [
        "from sklearn.svm import SVC\n",
        "\n",
        "svm = SVC(kernel = 'linear', C=1.0).fit(X_train, y_train)\n",
        "plot_class_regions_for_classifier(svm,X,y)"
      ]
    },
    {
      "cell_type": "markdown",
      "id": "44f9c0f2-0292-48ee-a673-445eba5b31d5",
      "metadata": {
        "id": "44f9c0f2-0292-48ee-a673-445eba5b31d5"
      },
      "source": [
        "#### Question 3\n",
        "1. Train an SVM classifier using linear kernel with C=0.00001.\n",
        "2. Train another SVM classifier using linear kernel with C=100\n",
        "3. Plot the classification regions for both cases using the training dataset.\n",
        "4. Comment on the results."
      ]
    },
    {
      "cell_type": "code",
      "execution_count": null,
      "id": "c718c5e8-7e81-49c7-978f-0f9980d81a02",
      "metadata": {
        "colab": {
          "base_uri": "https://localhost:8080/",
          "height": 513
        },
        "id": "c718c5e8-7e81-49c7-978f-0f9980d81a02",
        "outputId": "7078681b-cc25-433b-f4bb-180a5b9fa67c"
      },
      "outputs": [
        {
          "output_type": "display_data",
          "data": {
            "text/plain": [
              "<Figure size 432x288 with 1 Axes>"
            ],
            "image/png": "[encoded data removed]"
          },
          "metadata": {
            "needs_background": "light"
          }
        },
        {
          "output_type": "display_data",
          "data": {
            "text/plain": [
              "<Figure size 432x288 with 1 Axes>"
            ],
            "image/png": "[encoded data removed]"
          },
          "metadata": {
            "needs_background": "light"
          }
        }
      ],
      "source": [
        "svm1 = SVC(kernel = 'linear', C=0.00001).fit(X_train, y_train)\n",
        "svm2 = SVC(kernel = 'linear', C=100.0).fit(X_train, y_train)\n",
        "plot_class_regions_for_classifier(svm1,X,y)\n",
        "plot_class_regions_for_classifier(svm2,X,y)"
      ]
    },
    {
      "cell_type": "markdown",
      "source": [
        "when c=0.0000, there will be no classification as there is no support vector classifier and all the data points will be classified as a yellow class (no importance to mistakes). When c=100, the classifier works better ,although, there are many misclassifications (mistakes are less allowed)."
      ],
      "metadata": {
        "id": "m1HPzTB28dDD"
      },
      "id": "m1HPzTB28dDD"
    },
    {
      "cell_type": "markdown",
      "id": "e898097c-ca39-4c05-ba1e-230b0335e0f3",
      "metadata": {
        "id": "e898097c-ca39-4c05-ba1e-230b0335e0f3"
      },
      "source": [
        "### Use the fruits dataset in questions 4, 5, 6."
      ]
    },
    {
      "cell_type": "code",
      "execution_count": null,
      "id": "0eb45591-265b-4b68-932e-a9cd676074e1",
      "metadata": {
        "id": "0eb45591-265b-4b68-932e-a9cd676074e1"
      },
      "outputs": [],
      "source": [
        "import pandas as pd\n",
        "fruits = pd.read_table('fruit_data_with_colors.txt')\n",
        "feature_names_fruits = ['height', 'width', 'mass', 'color_score']"
      ]
    },
    {
      "cell_type": "markdown",
      "id": "0bf5cd83-cf2c-474a-ac20-c7170013bd9e",
      "metadata": {
        "id": "0bf5cd83-cf2c-474a-ac20-c7170013bd9e"
      },
      "source": [
        "#### Question 4\n",
        "1. Split the data by columns into X_fruits and y_fruits where X_fruits is the data records and y_fruits is the labels.\n",
        "2. Using only the **'height'** and **'width'** features, split the data into training and testing using random_state=0, and 25% of the data for testing.\n",
        "3. Using **sklearn LinearSVC**, train a linear svm"
      ]
    },
    {
      "cell_type": "code",
      "execution_count": null,
      "id": "a24b40bf-d2fc-421d-a6d5-b57f4f267d4f",
      "metadata": {
        "id": "a24b40bf-d2fc-421d-a6d5-b57f4f267d4f",
        "colab": {
          "base_uri": "https://localhost:8080/"
        },
        "outputId": "7d7f740a-ea81-4d60-8825-ff1e4da78e4a"
      },
      "outputs": [
        {
          "output_type": "stream",
          "name": "stderr",
          "text": [
            "/usr/local/lib/python3.7/dist-packages/sklearn/svm/_base.py:1208: ConvergenceWarning: Liblinear failed to converge, increase the number of iterations.\n",
            "  ConvergenceWarning,\n"
          ]
        }
      ],
      "source": [
        "from sklearn.model_selection import train_test_split\n",
        "from sklearn.svm import LinearSVC\n",
        "\n",
        "X_fruits=fruits[feature_names_fruits]\n",
        "y_fruits=fruits['fruit_label']\n",
        "\n",
        "X_fruits2=fruits[['height','width']]\n",
        "X_train, X_test, y_train, y_test=train_test_split(X_fruits2,y_fruits,random_state=0,test_size=0.25)\n",
        "\n",
        "svm = LinearSVC().fit(X_train, y_train)"
      ]
    },
    {
      "cell_type": "markdown",
      "id": "afbdd81c-2407-4427-8c11-4fcf2d40f887",
      "metadata": {
        "id": "afbdd81c-2407-4427-8c11-4fcf2d40f887"
      },
      "source": [
        "#### Question 5\n",
        "For the previous model from question 4. \n",
        "1. How many SVM models have been trained? and Why?\n",
        "2. Print the models' coefficients and intercepts."
      ]
    },
    {
      "cell_type": "markdown",
      "source": [
        "4 models have been trained because there are 4 types of fruits. (apples, mandarins, lemons, and oranges)"
      ],
      "metadata": {
        "id": "VYqGCzLNkW6T"
      },
      "id": "VYqGCzLNkW6T"
    },
    {
      "cell_type": "code",
      "execution_count": null,
      "id": "33e232a3-7be9-4b6d-b970-a252c4fd0ed4",
      "metadata": {
        "id": "33e232a3-7be9-4b6d-b970-a252c4fd0ed4",
        "colab": {
          "base_uri": "https://localhost:8080/"
        },
        "outputId": "482c4794-f520-4f23-f031-207ea067a6a8"
      },
      "outputs": [
        {
          "output_type": "stream",
          "name": "stdout",
          "text": [
            "The models' coefficients\n",
            "[[-0.27921408  0.47944252]\n",
            " [-1.10776843  0.78974965]\n",
            " [-0.04068756  0.2197368 ]\n",
            " [ 1.01119674 -1.26217727]]\n",
            "The models' intercepts\n",
            "[-1.53013218  0.78671148 -1.69263696  0.37206032]\n"
          ]
        }
      ],
      "source": [
        "print(\"The models' coefficients\")\n",
        "print(svm.coef_)\n",
        "print(\"The models' intercepts\")\n",
        "print(svm.intercept_)"
      ]
    },
    {
      "cell_type": "markdown",
      "id": "6c2107ac-594b-4f66-a79f-12afa317dfaf",
      "metadata": {
        "id": "6c2107ac-594b-4f66-a79f-12afa317dfaf"
      },
      "source": [
        "#### Question 6\n",
        "Plot the classification boundary of each svm on a scatter plot of the training data."
      ]
    },
    {
      "cell_type": "code",
      "source": [
        "!pip install mglearn"
      ],
      "metadata": {
        "colab": {
          "base_uri": "https://localhost:8080/"
        },
        "id": "osReQ-Umastn",
        "outputId": "6910931c-b669-4ce5-ef43-f536703aa55c"
      },
      "id": "osReQ-Umastn",
      "execution_count": null,
      "outputs": [
        {
          "output_type": "stream",
          "name": "stdout",
          "text": [
            "Collecting mglearn\n",
            "  Downloading mglearn-0.1.9.tar.gz (540 kB)\n",
            "\u001b[?25l\r\u001b[K     |▋                               | 10 kB 18.2 MB/s eta 0:00:01\r\u001b[K     |█▏                              | 20 kB 4.6 MB/s eta 0:00:01\r\u001b[K     |█▉                              | 30 kB 6.4 MB/s eta 0:00:01\r\u001b[K     |██▍                             | 40 kB 5.5 MB/s eta 0:00:01\r\u001b[K     |███                             | 51 kB 4.5 MB/s eta 0:00:01\r\u001b[K     |███▋                            | 61 kB 5.3 MB/s eta 0:00:01\r\u001b[K     |████▎                           | 71 kB 5.6 MB/s eta 0:00:01\r\u001b[K     |████▉                           | 81 kB 4.6 MB/s eta 0:00:01\r\u001b[K     |█████▌                          | 92 kB 5.1 MB/s eta 0:00:01\r\u001b[K     |██████                          | 102 kB 5.4 MB/s eta 0:00:01\r\u001b[K     |██████▊                         | 112 kB 5.4 MB/s eta 0:00:01\r\u001b[K     |███████▎                        | 122 kB 5.4 MB/s eta 0:00:01\r\u001b[K     |███████▉                        | 133 kB 5.4 MB/s eta 0:00:01\r\u001b[K     |████████▌                       | 143 kB 5.4 MB/s eta 0:00:01\r\u001b[K     |█████████                       | 153 kB 5.4 MB/s eta 0:00:01\r\u001b[K     |█████████▊                      | 163 kB 5.4 MB/s eta 0:00:01\r\u001b[K     |██████████▎                     | 174 kB 5.4 MB/s eta 0:00:01\r\u001b[K     |███████████                     | 184 kB 5.4 MB/s eta 0:00:01\r\u001b[K     |███████████▌                    | 194 kB 5.4 MB/s eta 0:00:01\r\u001b[K     |████████████▏                   | 204 kB 5.4 MB/s eta 0:00:01\r\u001b[K     |████████████▊                   | 215 kB 5.4 MB/s eta 0:00:01\r\u001b[K     |█████████████▍                  | 225 kB 5.4 MB/s eta 0:00:01\r\u001b[K     |██████████████                  | 235 kB 5.4 MB/s eta 0:00:01\r\u001b[K     |██████████████▋                 | 245 kB 5.4 MB/s eta 0:00:01\r\u001b[K     |███████████████▏                | 256 kB 5.4 MB/s eta 0:00:01\r\u001b[K     |███████████████▊                | 266 kB 5.4 MB/s eta 0:00:01\r\u001b[K     |████████████████▍               | 276 kB 5.4 MB/s eta 0:00:01\r\u001b[K     |█████████████████               | 286 kB 5.4 MB/s eta 0:00:01\r\u001b[K     |█████████████████▋              | 296 kB 5.4 MB/s eta 0:00:01\r\u001b[K     |██████████████████▏             | 307 kB 5.4 MB/s eta 0:00:01\r\u001b[K     |██████████████████▉             | 317 kB 5.4 MB/s eta 0:00:01\r\u001b[K     |███████████████████▍            | 327 kB 5.4 MB/s eta 0:00:01\r\u001b[K     |████████████████████            | 337 kB 5.4 MB/s eta 0:00:01\r\u001b[K     |████████████████████▋           | 348 kB 5.4 MB/s eta 0:00:01\r\u001b[K     |█████████████████████▎          | 358 kB 5.4 MB/s eta 0:00:01\r\u001b[K     |█████████████████████▉          | 368 kB 5.4 MB/s eta 0:00:01\r\u001b[K     |██████████████████████▌         | 378 kB 5.4 MB/s eta 0:00:01\r\u001b[K     |███████████████████████         | 389 kB 5.4 MB/s eta 0:00:01\r\u001b[K     |███████████████████████▋        | 399 kB 5.4 MB/s eta 0:00:01\r\u001b[K     |████████████████████████▎       | 409 kB 5.4 MB/s eta 0:00:01\r\u001b[K     |████████████████████████▉       | 419 kB 5.4 MB/s eta 0:00:01\r\u001b[K     |█████████████████████████▌      | 430 kB 5.4 MB/s eta 0:00:01\r\u001b[K     |██████████████████████████      | 440 kB 5.4 MB/s eta 0:00:01\r\u001b[K     |██████████████████████████▊     | 450 kB 5.4 MB/s eta 0:00:01\r\u001b[K     |███████████████████████████▎    | 460 kB 5.4 MB/s eta 0:00:01\r\u001b[K     |████████████████████████████    | 471 kB 5.4 MB/s eta 0:00:01\r\u001b[K     |████████████████████████████▌   | 481 kB 5.4 MB/s eta 0:00:01\r\u001b[K     |█████████████████████████████▏  | 491 kB 5.4 MB/s eta 0:00:01\r\u001b[K     |█████████████████████████████▊  | 501 kB 5.4 MB/s eta 0:00:01\r\u001b[K     |██████████████████████████████▍ | 512 kB 5.4 MB/s eta 0:00:01\r\u001b[K     |███████████████████████████████ | 522 kB 5.4 MB/s eta 0:00:01\r\u001b[K     |███████████████████████████████▌| 532 kB 5.4 MB/s eta 0:00:01\r\u001b[K     |████████████████████████████████| 540 kB 5.4 MB/s \n",
            "\u001b[?25hRequirement already satisfied: numpy in /usr/local/lib/python3.7/dist-packages (from mglearn) (1.21.6)\n",
            "Requirement already satisfied: matplotlib in /usr/local/lib/python3.7/dist-packages (from mglearn) (3.2.2)\n",
            "Requirement already satisfied: scikit-learn in /usr/local/lib/python3.7/dist-packages (from mglearn) (1.0.2)\n",
            "Requirement already satisfied: pandas in /usr/local/lib/python3.7/dist-packages (from mglearn) (1.3.5)\n",
            "Requirement already satisfied: pillow in /usr/local/lib/python3.7/dist-packages (from mglearn) (7.1.2)\n",
            "Requirement already satisfied: cycler in /usr/local/lib/python3.7/dist-packages (from mglearn) (0.11.0)\n",
            "Requirement already satisfied: imageio in /usr/local/lib/python3.7/dist-packages (from mglearn) (2.4.1)\n",
            "Requirement already satisfied: joblib in /usr/local/lib/python3.7/dist-packages (from mglearn) (1.1.0)\n",
            "Requirement already satisfied: pyparsing!=2.0.4,!=2.1.2,!=2.1.6,>=2.0.1 in /usr/local/lib/python3.7/dist-packages (from matplotlib->mglearn) (3.0.9)\n",
            "Requirement already satisfied: kiwisolver>=1.0.1 in /usr/local/lib/python3.7/dist-packages (from matplotlib->mglearn) (1.4.2)\n",
            "Requirement already satisfied: python-dateutil>=2.1 in /usr/local/lib/python3.7/dist-packages (from matplotlib->mglearn) (2.8.2)\n",
            "Requirement already satisfied: typing-extensions in /usr/local/lib/python3.7/dist-packages (from kiwisolver>=1.0.1->matplotlib->mglearn) (4.2.0)\n",
            "Requirement already satisfied: six>=1.5 in /usr/local/lib/python3.7/dist-packages (from python-dateutil>=2.1->matplotlib->mglearn) (1.15.0)\n",
            "Requirement already satisfied: pytz>=2017.3 in /usr/local/lib/python3.7/dist-packages (from pandas->mglearn) (2022.1)\n",
            "Requirement already satisfied: scipy>=1.1.0 in /usr/local/lib/python3.7/dist-packages (from scikit-learn->mglearn) (1.4.1)\n",
            "Requirement already satisfied: threadpoolctl>=2.0.0 in /usr/local/lib/python3.7/dist-packages (from scikit-learn->mglearn) (3.1.0)\n",
            "Building wheels for collected packages: mglearn\n",
            "  Building wheel for mglearn (setup.py) ... \u001b[?25l\u001b[?25hdone\n",
            "  Created wheel for mglearn: filename=mglearn-0.1.9-py2.py3-none-any.whl size=582639 sha256=92185c9c17e64f1d1e5b9a9fe4918d4e37ab3b09b064adead7e554be91ba95a1\n",
            "  Stored in directory: /root/.cache/pip/wheels/f1/17/e1/1720d6dcd70187b6b6c3750cb3508798f2b1d57c9d3214b08b\n",
            "Successfully built mglearn\n",
            "Installing collected packages: mglearn\n",
            "Successfully installed mglearn-0.1.9\n"
          ]
        }
      ]
    },
    {
      "cell_type": "code",
      "execution_count": null,
      "id": "e767b41f-b536-4b1c-b620-8315abf215ff",
      "metadata": {
        "id": "e767b41f-b536-4b1c-b620-8315abf215ff",
        "colab": {
          "base_uri": "https://localhost:8080/",
          "height": 265
        },
        "outputId": "a90d088d-ab5b-4d48-e7e3-727e9c7b0820"
      },
      "outputs": [
        {
          "output_type": "display_data",
          "data": {
            "text/plain": [
              "<Figure size 432x288 with 1 Axes>"
            ],
            "image/png": "[encoded data removed]"
          },
          "metadata": {
            "needs_background": "light"
          }
        }
      ],
      "source": [
        "import mglearn\n",
        "\n",
        "mf = svm.intercept_.shape[0];\n",
        "xm = np.r_[np.min(X),np.max(X)]\n",
        "yf = svm.classes_.copy()\n",
        "xm = np.r_[np.min(X),np.max(X)]\n",
        "\n",
        "for jf in np.arange(mf):\n",
        "    tmp = svm.coef_[jf]\n",
        "    a = - tmp[0] / tmp[1]; \n",
        "    b = - (svm.intercept_[jf]-yf[jf]) / tmp[1]\n",
        "    yy = a * xm + b\n",
        "    plt.plot(xm, yy, label='Coeff ='+str(jf))\n",
        "\n",
        "#mglearn.plots.plot_2d_separator(svm,X_train)\n",
        "#mglearn.discrete_scatter(X_train[:,0],X_train[:,1],y_train)\n",
        "\n",
        "plt.show()"
      ]
    },
    {
      "cell_type": "markdown",
      "id": "f8a20774-c340-4747-bf8a-6296032ded8c",
      "metadata": {
        "id": "f8a20774-c340-4747-bf8a-6296032ded8c"
      },
      "source": [
        "from sklearn.datasets import load_breast_cancer\n",
        "(X_cancer, y_cancer) = load_breast_cancer(return_X_y = True)### Use the breast cancer dataset in question 7, 8, and9."
      ]
    },
    {
      "cell_type": "code",
      "execution_count": null,
      "id": "39a572ec-cc7d-400d-b601-d5e243e91e6c",
      "metadata": {
        "id": "39a572ec-cc7d-400d-b601-d5e243e91e6c"
      },
      "outputs": [],
      "source": [
        "from sklearn.datasets import load_breast_cancer\n",
        "(X_cancer, y_cancer) = load_breast_cancer(return_X_y = True)"
      ]
    },
    {
      "cell_type": "markdown",
      "id": "cd89324d-5cbc-4985-baa3-868c061bc3ad",
      "metadata": {
        "id": "cd89324d-5cbc-4985-baa3-868c061bc3ad"
      },
      "source": [
        "#### Question 7\n",
        "1. Split the dataset into training and testing datasets, use random_state = 0, and 25% of the data for testing.\n",
        "2. Use GridSearchCV to find the best C value for and SVM classifier with rbf kernel and print the best C value. *use:*  \n",
        "```python\n",
        "parameters = {'kernel' : ('poly', 'rbf'), 'C':[0.01, 0.1, 0.5, 1, 10]}\n",
        "```\n",
        "3. Print the best parameters resulted from your grid search."
      ]
    },
    {
      "cell_type": "code",
      "execution_count": null,
      "id": "92c7d2b4-4a4f-4b07-957b-9a7bb6ba79e7",
      "metadata": {
        "id": "92c7d2b4-4a4f-4b07-957b-9a7bb6ba79e7",
        "colab": {
          "base_uri": "https://localhost:8080/"
        },
        "outputId": "8f97f0c6-a32f-45ed-f965-9445dcb889e2"
      },
      "outputs": [
        {
          "output_type": "stream",
          "name": "stdout",
          "text": [
            "Best parameters\n",
            "{'C': 10, 'kernel': 'rbf'}\n"
          ]
        }
      ],
      "source": [
        "from sklearn.model_selection import GridSearchCV\n",
        "from sklearn.model_selection import train_test_split\n",
        "from sklearn.svm import SVC\n",
        "\n",
        "\n",
        "X_train, X_test, y_train, y_test=train_test_split(X_cancer,y_cancer,random_state=0,test_size=0.25)\n",
        "\n",
        "parameters = {'kernel' : ('poly', 'rbf'), 'C':[0.01, 0.1, 0.5, 1, 10]}\n",
        "clf = GridSearchCV(SVC(),parameters)\n",
        "clf.fit(X_train, y_train)\n",
        "\n",
        "print(\"Best parameters\")\n",
        "print(clf.best_params_)\n"
      ]
    },
    {
      "cell_type": "markdown",
      "id": "ed5f0af9-c2b4-4549-a24d-65ef60c504ac",
      "metadata": {
        "id": "ed5f0af9-c2b4-4549-a24d-65ef60c504ac"
      },
      "source": [
        "#### Question 8\n",
        "Train an SVM model using the best parameters resulted from question 7, then calculate and print the training and testing accuracy."
      ]
    },
    {
      "cell_type": "code",
      "execution_count": null,
      "id": "d09b4382-169b-499b-8a9b-910ec79407a3",
      "metadata": {
        "id": "d09b4382-169b-499b-8a9b-910ec79407a3",
        "colab": {
          "base_uri": "https://localhost:8080/"
        },
        "outputId": "5f32c723-ecf4-47a7-cce8-026f8c82b2f5"
      },
      "outputs": [
        {
          "output_type": "stream",
          "name": "stdout",
          "text": [
            "0.9370629370629371\n"
          ]
        }
      ],
      "source": [
        "clf = SVC(kernel='rbf', C=10)\n",
        "clf.fit(X_train, y_train)\n",
        "\n",
        "y_pred = clf.predict(X_test)\n",
        "\n",
        "from sklearn.metrics import accuracy_score\n",
        "\n",
        "print(accuracy_score(y_test,y_pred))"
      ]
    },
    {
      "cell_type": "markdown",
      "id": "412c6095-ab95-4f32-8083-51d041463506",
      "metadata": {
        "id": "412c6095-ab95-4f32-8083-51d041463506"
      },
      "source": [
        "#### Question 9\n",
        "Improve the previous results from question 8.\n",
        "\n",
        "**Hint:** Don't change the model, instead, make some preprocessing on the data."
      ]
    },
    {
      "cell_type": "code",
      "execution_count": null,
      "id": "e330abb2-9129-4ee9-9a0a-4b78282e5056",
      "metadata": {
        "id": "e330abb2-9129-4ee9-9a0a-4b78282e5056",
        "colab": {
          "base_uri": "https://localhost:8080/"
        },
        "outputId": "2330f96a-1c7e-4033-cc8f-a7e117258dfa"
      },
      "outputs": [
        {
          "output_type": "stream",
          "name": "stdout",
          "text": [
            "accuracy score after data normalization=  0.972027972027972\n"
          ]
        },
        {
          "output_type": "stream",
          "name": "stderr",
          "text": [
            "/usr/local/lib/python3.7/dist-packages/ipykernel_launcher.py:4: DeprecationWarning: `np.float` is a deprecated alias for the builtin `float`. To silence this warning, use `float` by itself. Doing this will not modify any behavior and is safe. If you specifically wanted the numpy scalar type, use `np.float64` here.\n",
            "Deprecated in NumPy 1.20; for more details and guidance: https://numpy.org/devdocs/release/1.20.0-notes.html#deprecations\n",
            "  after removing the cwd from sys.path.\n",
            "/usr/local/lib/python3.7/dist-packages/ipykernel_launcher.py:5: DeprecationWarning: `np.float` is a deprecated alias for the builtin `float`. To silence this warning, use `float` by itself. Doing this will not modify any behavior and is safe. If you specifically wanted the numpy scalar type, use `np.float64` here.\n",
            "Deprecated in NumPy 1.20; for more details and guidance: https://numpy.org/devdocs/release/1.20.0-notes.html#deprecations\n",
            "  \"\"\"\n"
          ]
        }
      ],
      "source": [
        "from sklearn.preprocessing import MinMaxScaler\n",
        "n_scaler = MinMaxScaler()\n",
        "\n",
        "X_train_scaled = n_scaler.fit_transform(X_train.astype(np.float))\n",
        "X_test_scaled = n_scaler.transform(X_test.astype(np.float))\n",
        "\n",
        "\n",
        "clf = SVC(kernel='rbf', C=10)\n",
        "clf.fit(X_train_scaled, y_train)\n",
        "\n",
        "y_predict_scaled = clf.predict(X_test_scaled)\n",
        "\n",
        "print('accuracy score after data normalization= ',accuracy_score(y_test, y_predict_scaled))"
      ]
    }
  ],
  "metadata": {
    "kernelspec": {
      "display_name": "Python 3",
      "language": "python",
      "name": "python3"
    },
    "language_info": {
      "codemirror_mode": {
        "name": "ipython",
        "version": 3
      },
      "file_extension": ".py",
      "mimetype": "text/x-python",
      "name": "python",
      "nbconvert_exporter": "python",
      "pygments_lexer": "ipython3",
      "version": "3.9.5"
    },
    "colab": {
      "name": "SVM Assignment.ipynb",
      "provenance": [],
      "collapsed_sections": []
    }
  },
  "nbformat": 4,
  "nbformat_minor": 5
}